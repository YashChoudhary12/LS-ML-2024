{
  "cells": [
    {
      "cell_type": "code",
      "execution_count": 1,
      "metadata": {
        "colab": {
          "base_uri": "https://localhost:8080/"
        },
        "id": "IjXYC_OdWHbb",
        "outputId": "ddfadccb-fa7f-4ad9-bb77-2cee0f6d161a"
      },
      "outputs": [
        {
          "name": "stdout",
          "output_type": "stream",
          "text": [
            "Mounted at /content/drive\n"
          ]
        }
      ],
      "source": [
        "import os\n",
        "import numpy as np\n",
        "import tensorflow as tf\n",
        "from tensorflow.keras import Input\n",
        "from tensorflow.keras.layers import Dense,Flatten\n",
        "\n",
        "from google.colab import drive\n",
        "drive.mount('/content/drive')"
      ]
    },
    {
      "cell_type": "code",
      "execution_count": 2,
      "metadata": {
        "colab": {
          "base_uri": "https://localhost:8080/"
        },
        "id": "r5wTIWEVWVTy",
        "outputId": "16ecd9a1-962b-46bd-d08a-e39b48780ac9"
      },
      "outputs": [
        {
          "name": "stdout",
          "output_type": "stream",
          "text": [
            "Found 269 files belonging to 2 classes.\n"
          ]
        }
      ],
      "source": [
        "dataset = tf.keras.preprocessing.image_dataset_from_directory(\"/content/drive/My Drive/homer_bart\",image_size=(64, 64),label_mode = \"binary\")"
      ]
    },
    {
      "cell_type": "code",
      "execution_count": 3,
      "metadata": {
        "id": "3_TsHlMcWeoV"
      },
      "outputs": [],
      "source": [
        "train_data = dataset.take(8)\n",
        "test_data = dataset.skip(8)\n",
        "train_data = train_data.cache().shuffle(1000).prefetch(buffer_size=tf.data.AUTOTUNE)\n",
        "test_data = test_data.cache().shuffle(1000).prefetch(buffer_size=tf.data.AUTOTUNE)"
      ]
    },
    {
      "cell_type": "code",
      "execution_count": 4,
      "metadata": {
        "id": "x964w84MWhkJ"
      },
      "outputs": [],
      "source": [
        "preprocess = tf.keras.Sequential(\n",
        "    [tf.keras.layers.Rescaling(1./255.)] # Use a numerical rescaling factor\n",
        ")\n",
        "model = tf.keras.Sequential()\n",
        "model.add(Input((64,64,3)))\n",
        "model.add(Flatten())\n",
        "model.add(preprocess)\n",
        "model.add(Dense(128, activation='relu')) \n",
        "model.add(Dense(64, activation='relu')) \n",
        "model.add(Dense(32, activation='relu'))  \n",
        "model.add(Dense(1, activation='sigmoid')) \n",
        "\n",
        "model.compile(optimizer='adam', \n",
        "              loss = 'binary_crossentropy', \n",
        "              metrics = ['accuracy'])"
      ]
    },
    {
      "cell_type": "code",
      "execution_count": 9,
      "metadata": {
        "colab": {
          "base_uri": "https://localhost:8080/"
        },
        "id": "f2hvP3IeWlPg",
        "outputId": "8d69eb68-3664-495a-f263-267d49f20202"
      },
      "outputs": [
        {
          "name": "stdout",
          "output_type": "stream",
          "text": [
            "Epoch 1/5\n",
            "8/8 [==============================] - 0s 41ms/step - loss: 0.3379 - accuracy: 0.8555 - val_loss: 0.2814 - val_accuracy: 0.8462\n",
            "Epoch 2/5\n",
            "8/8 [==============================] - 0s 37ms/step - loss: 0.3568 - accuracy: 0.8125 - val_loss: 0.4444 - val_accuracy: 0.8462\n",
            "Epoch 3/5\n",
            "8/8 [==============================] - 0s 34ms/step - loss: 0.3600 - accuracy: 0.8320 - val_loss: 0.2035 - val_accuracy: 0.9231\n",
            "Epoch 4/5\n",
            "8/8 [==============================] - 0s 23ms/step - loss: 0.3183 - accuracy: 0.8359 - val_loss: 0.6224 - val_accuracy: 0.6154\n",
            "Epoch 5/5\n",
            "8/8 [==============================] - 0s 23ms/step - loss: 0.3242 - accuracy: 0.8477 - val_loss: 0.1632 - val_accuracy: 0.9231\n"
          ]
        },
        {
          "data": {
            "text/plain": [
              "<keras.src.callbacks.History at 0x7a83f451a140>"
            ]
          },
          "execution_count": 9,
          "metadata": {},
          "output_type": "execute_result"
        }
      ],
      "source": [
        "epochs = 5\n",
        "\n",
        "\n",
        "model.fit(train_data,\n",
        "          epochs = epochs, # Pass the actual number of epochs\n",
        "          # batch_size is inferred from the generator, no need to specify\n",
        "          verbose=1,\n",
        "          validation_data = test_data)"
      ]
    },
    {
      "cell_type": "code",
      "execution_count": 10,
      "metadata": {
        "colab": {
          "base_uri": "https://localhost:8080/"
        },
        "id": "k2EKfECOWnz1",
        "outputId": "998a2b4d-2d72-4343-9713-180917941496"
      },
      "outputs": [
        {
          "name": "stdout",
          "output_type": "stream",
          "text": [
            "1/1 - 0s - loss: 0.1632 - accuracy: 0.9231 - 9ms/epoch - 9ms/step\n",
            "Test accuracy: 0.9230769276618958\n"
          ]
        }
      ],
      "source": [
        "# Evaluate the model on the test data\n",
        "test_loss, test_accuracy = model.evaluate(test_data, verbose=2)\n",
        "print(f\"Test accuracy: {test_accuracy}\")"
      ]
    },
    {
      "cell_type": "code",
      "execution_count": null,
      "metadata": {
        "id": "vqwIpNXCW6VV"
      },
      "outputs": [],
      "source": []
    }
  ],
  "metadata": {
    "colab": {
      "provenance": []
    },
    "kernelspec": {
      "display_name": "Python 3",
      "name": "python3"
    },
    "language_info": {
      "name": "python"
    }
  },
  "nbformat": 4,
  "nbformat_minor": 0
}
