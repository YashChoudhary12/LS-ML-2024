{
  "nbformat": 4,
  "nbformat_minor": 0,
  "metadata": {
    "colab": {
      "provenance": []
    },
    "kernelspec": {
      "name": "python3",
      "display_name": "Python 3"
    },
    "language_info": {
      "name": "python"
    }
  },
  "cells": [
    {
      "cell_type": "markdown",
      "source": [
        "#WELCOME\n",
        "In this Assignment, you'll use **Classifier** to predict the output. You are allowed to write/edit between the\n",
        "```# START CODE HERE``` & ```# END CODE HERE``` only.<br>\n",
        "Don't edit the test cells otherwise you'd be failed in the assignment.\n",
        "\n",
        "Upload the ```utils.zip``` file before running the 1st cell.\n",
        "[Demo](https://drive.google.com/file/d/1ebkQR6ikjGottmxa5KL83ZWdjTLvRxbm/view?usp=share_link)\n",
        "\n",
        "**BEST OF LUCK**"
      ],
      "metadata": {
        "id": "HJM8Y9mh5o4H"
      }
    },
    {
      "cell_type": "markdown",
      "source": [
        "**RUN THIS CODE TO UNIZP THE REQUIRED FILES**"
      ],
      "metadata": {
        "id": "cEl-4aFCkdsB"
      }
    },
    {
      "cell_type": "markdown",
      "source": [
        "# Dataset Loading and Pre-Processing"
      ],
      "metadata": {
        "id": "VA4ZUSGu0Ox3"
      }
    },
    {
      "cell_type": "code",
      "source": [
        "import pandas as pd\n",
        "data = pd.read_csv(\"/content/weather_classification_data.csv\")"
      ],
      "metadata": {
        "id": "_tP5JsNsqBsI"
      },
      "execution_count": 2,
      "outputs": []
    },
    {
      "cell_type": "markdown",
      "source": [
        "## Data Info\n",
        "```data.info``` gives info about data-types and number of null objects.  \n",
        "There are no null data, no need to remove any."
      ],
      "metadata": {
        "id": "MBHkfY1c0gO6"
      }
    },
    {
      "cell_type": "code",
      "source": [
        "data.info()"
      ],
      "metadata": {
        "id": "O-myJ9LmqG8J",
        "outputId": "6296a5d1-461f-4c7c-d6f8-241114722360",
        "colab": {
          "base_uri": "https://localhost:8080/"
        }
      },
      "execution_count": 3,
      "outputs": [
        {
          "output_type": "stream",
          "name": "stdout",
          "text": [
            "<class 'pandas.core.frame.DataFrame'>\n",
            "RangeIndex: 13200 entries, 0 to 13199\n",
            "Data columns (total 11 columns):\n",
            " #   Column                Non-Null Count  Dtype  \n",
            "---  ------                --------------  -----  \n",
            " 0   Temperature           13200 non-null  float64\n",
            " 1   Humidity              13200 non-null  int64  \n",
            " 2   Wind Speed            13200 non-null  float64\n",
            " 3   Precipitation (%)     13200 non-null  float64\n",
            " 4   Cloud Cover           13200 non-null  object \n",
            " 5   Atmospheric Pressure  13200 non-null  float64\n",
            " 6   UV Index              13200 non-null  int64  \n",
            " 7   Season                13200 non-null  object \n",
            " 8   Visibility (km)       13200 non-null  float64\n",
            " 9   Location              13200 non-null  object \n",
            " 10  Weather Type          13200 non-null  object \n",
            "dtypes: float64(5), int64(2), object(4)\n",
            "memory usage: 1.1+ MB\n"
          ]
        }
      ]
    },
    {
      "cell_type": "markdown",
      "source": [
        "## Data Shuffling\n",
        "Data Shuffling removes any bias present and creates uniform distribution."
      ],
      "metadata": {
        "id": "98kT9K8a1LF9"
      }
    },
    {
      "cell_type": "code",
      "source": [
        "from sklearn.utils import shuffle\n",
        "data = shuffle(data)\n",
        "data.head()"
      ],
      "metadata": {
        "id": "DJ6bkcTbz8kP",
        "outputId": "67794073-3803-445e-8bc8-3ff2b559a000",
        "colab": {
          "base_uri": "https://localhost:8080/",
          "height": 275
        }
      },
      "execution_count": 4,
      "outputs": [
        {
          "output_type": "execute_result",
          "data": {
            "text/plain": [
              "       Temperature  Humidity  Wind Speed  Precipitation (%)    Cloud Cover  \\\n",
              "11218         17.0        85        14.5               95.0       overcast   \n",
              "2932          31.0        75         8.0               80.0  partly cloudy   \n",
              "9104          20.0        62         3.0               18.0          clear   \n",
              "6870          -6.0        40         8.0               75.0         cloudy   \n",
              "10016         28.0        66         3.0               26.0  partly cloudy   \n",
              "\n",
              "       Atmospheric Pressure  UV Index  Season  Visibility (km)  Location  \\\n",
              "11218                992.41         2  Autumn              4.0    inland   \n",
              "2932                1026.17         9  Summer              8.0  mountain   \n",
              "9104                1012.83        10  Spring              5.0    inland   \n",
              "6870                1105.31         5  Autumn              5.0   coastal   \n",
              "10016               1006.05         4  Winter              5.5   coastal   \n",
              "\n",
              "      Weather Type  \n",
              "11218        Rainy  \n",
              "2932         Sunny  \n",
              "9104         Sunny  \n",
              "6870         Rainy  \n",
              "10016       Cloudy  "
            ],
            "text/html": [
              "\n",
              "  <div id=\"df-52aa07cb-7aea-4dfa-bdca-0ef8474ed5ee\" class=\"colab-df-container\">\n",
              "    <div>\n",
              "<style scoped>\n",
              "    .dataframe tbody tr th:only-of-type {\n",
              "        vertical-align: middle;\n",
              "    }\n",
              "\n",
              "    .dataframe tbody tr th {\n",
              "        vertical-align: top;\n",
              "    }\n",
              "\n",
              "    .dataframe thead th {\n",
              "        text-align: right;\n",
              "    }\n",
              "</style>\n",
              "<table border=\"1\" class=\"dataframe\">\n",
              "  <thead>\n",
              "    <tr style=\"text-align: right;\">\n",
              "      <th></th>\n",
              "      <th>Temperature</th>\n",
              "      <th>Humidity</th>\n",
              "      <th>Wind Speed</th>\n",
              "      <th>Precipitation (%)</th>\n",
              "      <th>Cloud Cover</th>\n",
              "      <th>Atmospheric Pressure</th>\n",
              "      <th>UV Index</th>\n",
              "      <th>Season</th>\n",
              "      <th>Visibility (km)</th>\n",
              "      <th>Location</th>\n",
              "      <th>Weather Type</th>\n",
              "    </tr>\n",
              "  </thead>\n",
              "  <tbody>\n",
              "    <tr>\n",
              "      <th>11218</th>\n",
              "      <td>17.0</td>\n",
              "      <td>85</td>\n",
              "      <td>14.5</td>\n",
              "      <td>95.0</td>\n",
              "      <td>overcast</td>\n",
              "      <td>992.41</td>\n",
              "      <td>2</td>\n",
              "      <td>Autumn</td>\n",
              "      <td>4.0</td>\n",
              "      <td>inland</td>\n",
              "      <td>Rainy</td>\n",
              "    </tr>\n",
              "    <tr>\n",
              "      <th>2932</th>\n",
              "      <td>31.0</td>\n",
              "      <td>75</td>\n",
              "      <td>8.0</td>\n",
              "      <td>80.0</td>\n",
              "      <td>partly cloudy</td>\n",
              "      <td>1026.17</td>\n",
              "      <td>9</td>\n",
              "      <td>Summer</td>\n",
              "      <td>8.0</td>\n",
              "      <td>mountain</td>\n",
              "      <td>Sunny</td>\n",
              "    </tr>\n",
              "    <tr>\n",
              "      <th>9104</th>\n",
              "      <td>20.0</td>\n",
              "      <td>62</td>\n",
              "      <td>3.0</td>\n",
              "      <td>18.0</td>\n",
              "      <td>clear</td>\n",
              "      <td>1012.83</td>\n",
              "      <td>10</td>\n",
              "      <td>Spring</td>\n",
              "      <td>5.0</td>\n",
              "      <td>inland</td>\n",
              "      <td>Sunny</td>\n",
              "    </tr>\n",
              "    <tr>\n",
              "      <th>6870</th>\n",
              "      <td>-6.0</td>\n",
              "      <td>40</td>\n",
              "      <td>8.0</td>\n",
              "      <td>75.0</td>\n",
              "      <td>cloudy</td>\n",
              "      <td>1105.31</td>\n",
              "      <td>5</td>\n",
              "      <td>Autumn</td>\n",
              "      <td>5.0</td>\n",
              "      <td>coastal</td>\n",
              "      <td>Rainy</td>\n",
              "    </tr>\n",
              "    <tr>\n",
              "      <th>10016</th>\n",
              "      <td>28.0</td>\n",
              "      <td>66</td>\n",
              "      <td>3.0</td>\n",
              "      <td>26.0</td>\n",
              "      <td>partly cloudy</td>\n",
              "      <td>1006.05</td>\n",
              "      <td>4</td>\n",
              "      <td>Winter</td>\n",
              "      <td>5.5</td>\n",
              "      <td>coastal</td>\n",
              "      <td>Cloudy</td>\n",
              "    </tr>\n",
              "  </tbody>\n",
              "</table>\n",
              "</div>\n",
              "    <div class=\"colab-df-buttons\">\n",
              "\n",
              "  <div class=\"colab-df-container\">\n",
              "    <button class=\"colab-df-convert\" onclick=\"convertToInteractive('df-52aa07cb-7aea-4dfa-bdca-0ef8474ed5ee')\"\n",
              "            title=\"Convert this dataframe to an interactive table.\"\n",
              "            style=\"display:none;\">\n",
              "\n",
              "  <svg xmlns=\"http://www.w3.org/2000/svg\" height=\"24px\" viewBox=\"0 -960 960 960\">\n",
              "    <path d=\"M120-120v-720h720v720H120Zm60-500h600v-160H180v160Zm220 220h160v-160H400v160Zm0 220h160v-160H400v160ZM180-400h160v-160H180v160Zm440 0h160v-160H620v160ZM180-180h160v-160H180v160Zm440 0h160v-160H620v160Z\"/>\n",
              "  </svg>\n",
              "    </button>\n",
              "\n",
              "  <style>\n",
              "    .colab-df-container {\n",
              "      display:flex;\n",
              "      gap: 12px;\n",
              "    }\n",
              "\n",
              "    .colab-df-convert {\n",
              "      background-color: #E8F0FE;\n",
              "      border: none;\n",
              "      border-radius: 50%;\n",
              "      cursor: pointer;\n",
              "      display: none;\n",
              "      fill: #1967D2;\n",
              "      height: 32px;\n",
              "      padding: 0 0 0 0;\n",
              "      width: 32px;\n",
              "    }\n",
              "\n",
              "    .colab-df-convert:hover {\n",
              "      background-color: #E2EBFA;\n",
              "      box-shadow: 0px 1px 2px rgba(60, 64, 67, 0.3), 0px 1px 3px 1px rgba(60, 64, 67, 0.15);\n",
              "      fill: #174EA6;\n",
              "    }\n",
              "\n",
              "    .colab-df-buttons div {\n",
              "      margin-bottom: 4px;\n",
              "    }\n",
              "\n",
              "    [theme=dark] .colab-df-convert {\n",
              "      background-color: #3B4455;\n",
              "      fill: #D2E3FC;\n",
              "    }\n",
              "\n",
              "    [theme=dark] .colab-df-convert:hover {\n",
              "      background-color: #434B5C;\n",
              "      box-shadow: 0px 1px 3px 1px rgba(0, 0, 0, 0.15);\n",
              "      filter: drop-shadow(0px 1px 2px rgba(0, 0, 0, 0.3));\n",
              "      fill: #FFFFFF;\n",
              "    }\n",
              "  </style>\n",
              "\n",
              "    <script>\n",
              "      const buttonEl =\n",
              "        document.querySelector('#df-52aa07cb-7aea-4dfa-bdca-0ef8474ed5ee button.colab-df-convert');\n",
              "      buttonEl.style.display =\n",
              "        google.colab.kernel.accessAllowed ? 'block' : 'none';\n",
              "\n",
              "      async function convertToInteractive(key) {\n",
              "        const element = document.querySelector('#df-52aa07cb-7aea-4dfa-bdca-0ef8474ed5ee');\n",
              "        const dataTable =\n",
              "          await google.colab.kernel.invokeFunction('convertToInteractive',\n",
              "                                                    [key], {});\n",
              "        if (!dataTable) return;\n",
              "\n",
              "        const docLinkHtml = 'Like what you see? Visit the ' +\n",
              "          '<a target=\"_blank\" href=https://colab.research.google.com/notebooks/data_table.ipynb>data table notebook</a>'\n",
              "          + ' to learn more about interactive tables.';\n",
              "        element.innerHTML = '';\n",
              "        dataTable['output_type'] = 'display_data';\n",
              "        await google.colab.output.renderOutput(dataTable, element);\n",
              "        const docLink = document.createElement('div');\n",
              "        docLink.innerHTML = docLinkHtml;\n",
              "        element.appendChild(docLink);\n",
              "      }\n",
              "    </script>\n",
              "  </div>\n",
              "\n",
              "\n",
              "<div id=\"df-1c62b067-6bfa-4e55-bbb9-6f1a32109c76\">\n",
              "  <button class=\"colab-df-quickchart\" onclick=\"quickchart('df-1c62b067-6bfa-4e55-bbb9-6f1a32109c76')\"\n",
              "            title=\"Suggest charts\"\n",
              "            style=\"display:none;\">\n",
              "\n",
              "<svg xmlns=\"http://www.w3.org/2000/svg\" height=\"24px\"viewBox=\"0 0 24 24\"\n",
              "     width=\"24px\">\n",
              "    <g>\n",
              "        <path d=\"M19 3H5c-1.1 0-2 .9-2 2v14c0 1.1.9 2 2 2h14c1.1 0 2-.9 2-2V5c0-1.1-.9-2-2-2zM9 17H7v-7h2v7zm4 0h-2V7h2v10zm4 0h-2v-4h2v4z\"/>\n",
              "    </g>\n",
              "</svg>\n",
              "  </button>\n",
              "\n",
              "<style>\n",
              "  .colab-df-quickchart {\n",
              "      --bg-color: #E8F0FE;\n",
              "      --fill-color: #1967D2;\n",
              "      --hover-bg-color: #E2EBFA;\n",
              "      --hover-fill-color: #174EA6;\n",
              "      --disabled-fill-color: #AAA;\n",
              "      --disabled-bg-color: #DDD;\n",
              "  }\n",
              "\n",
              "  [theme=dark] .colab-df-quickchart {\n",
              "      --bg-color: #3B4455;\n",
              "      --fill-color: #D2E3FC;\n",
              "      --hover-bg-color: #434B5C;\n",
              "      --hover-fill-color: #FFFFFF;\n",
              "      --disabled-bg-color: #3B4455;\n",
              "      --disabled-fill-color: #666;\n",
              "  }\n",
              "\n",
              "  .colab-df-quickchart {\n",
              "    background-color: var(--bg-color);\n",
              "    border: none;\n",
              "    border-radius: 50%;\n",
              "    cursor: pointer;\n",
              "    display: none;\n",
              "    fill: var(--fill-color);\n",
              "    height: 32px;\n",
              "    padding: 0;\n",
              "    width: 32px;\n",
              "  }\n",
              "\n",
              "  .colab-df-quickchart:hover {\n",
              "    background-color: var(--hover-bg-color);\n",
              "    box-shadow: 0 1px 2px rgba(60, 64, 67, 0.3), 0 1px 3px 1px rgba(60, 64, 67, 0.15);\n",
              "    fill: var(--button-hover-fill-color);\n",
              "  }\n",
              "\n",
              "  .colab-df-quickchart-complete:disabled,\n",
              "  .colab-df-quickchart-complete:disabled:hover {\n",
              "    background-color: var(--disabled-bg-color);\n",
              "    fill: var(--disabled-fill-color);\n",
              "    box-shadow: none;\n",
              "  }\n",
              "\n",
              "  .colab-df-spinner {\n",
              "    border: 2px solid var(--fill-color);\n",
              "    border-color: transparent;\n",
              "    border-bottom-color: var(--fill-color);\n",
              "    animation:\n",
              "      spin 1s steps(1) infinite;\n",
              "  }\n",
              "\n",
              "  @keyframes spin {\n",
              "    0% {\n",
              "      border-color: transparent;\n",
              "      border-bottom-color: var(--fill-color);\n",
              "      border-left-color: var(--fill-color);\n",
              "    }\n",
              "    20% {\n",
              "      border-color: transparent;\n",
              "      border-left-color: var(--fill-color);\n",
              "      border-top-color: var(--fill-color);\n",
              "    }\n",
              "    30% {\n",
              "      border-color: transparent;\n",
              "      border-left-color: var(--fill-color);\n",
              "      border-top-color: var(--fill-color);\n",
              "      border-right-color: var(--fill-color);\n",
              "    }\n",
              "    40% {\n",
              "      border-color: transparent;\n",
              "      border-right-color: var(--fill-color);\n",
              "      border-top-color: var(--fill-color);\n",
              "    }\n",
              "    60% {\n",
              "      border-color: transparent;\n",
              "      border-right-color: var(--fill-color);\n",
              "    }\n",
              "    80% {\n",
              "      border-color: transparent;\n",
              "      border-right-color: var(--fill-color);\n",
              "      border-bottom-color: var(--fill-color);\n",
              "    }\n",
              "    90% {\n",
              "      border-color: transparent;\n",
              "      border-bottom-color: var(--fill-color);\n",
              "    }\n",
              "  }\n",
              "</style>\n",
              "\n",
              "  <script>\n",
              "    async function quickchart(key) {\n",
              "      const quickchartButtonEl =\n",
              "        document.querySelector('#' + key + ' button');\n",
              "      quickchartButtonEl.disabled = true;  // To prevent multiple clicks.\n",
              "      quickchartButtonEl.classList.add('colab-df-spinner');\n",
              "      try {\n",
              "        const charts = await google.colab.kernel.invokeFunction(\n",
              "            'suggestCharts', [key], {});\n",
              "      } catch (error) {\n",
              "        console.error('Error during call to suggestCharts:', error);\n",
              "      }\n",
              "      quickchartButtonEl.classList.remove('colab-df-spinner');\n",
              "      quickchartButtonEl.classList.add('colab-df-quickchart-complete');\n",
              "    }\n",
              "    (() => {\n",
              "      let quickchartButtonEl =\n",
              "        document.querySelector('#df-1c62b067-6bfa-4e55-bbb9-6f1a32109c76 button');\n",
              "      quickchartButtonEl.style.display =\n",
              "        google.colab.kernel.accessAllowed ? 'block' : 'none';\n",
              "    })();\n",
              "  </script>\n",
              "</div>\n",
              "\n",
              "    </div>\n",
              "  </div>\n"
            ],
            "application/vnd.google.colaboratory.intrinsic+json": {
              "type": "dataframe",
              "variable_name": "data",
              "summary": "{\n  \"name\": \"data\",\n  \"rows\": 13200,\n  \"fields\": [\n    {\n      \"column\": \"Temperature\",\n      \"properties\": {\n        \"dtype\": \"number\",\n        \"std\": 17.386326582360788,\n        \"min\": -25.0,\n        \"max\": 109.0,\n        \"num_unique_values\": 126,\n        \"samples\": [\n          -19.0,\n          6.0,\n          100.0\n        ],\n        \"semantic_type\": \"\",\n        \"description\": \"\"\n      }\n    },\n    {\n      \"column\": \"Humidity\",\n      \"properties\": {\n        \"dtype\": \"number\",\n        \"std\": 20,\n        \"min\": 20,\n        \"max\": 109,\n        \"num_unique_values\": 90,\n        \"samples\": [\n          55,\n          99,\n          61\n        ],\n        \"semantic_type\": \"\",\n        \"description\": \"\"\n      }\n    },\n    {\n      \"column\": \"Wind Speed\",\n      \"properties\": {\n        \"dtype\": \"number\",\n        \"std\": 6.908704141531295,\n        \"min\": 0.0,\n        \"max\": 48.5,\n        \"num_unique_values\": 97,\n        \"samples\": [\n          21.0,\n          1.5,\n          30.5\n        ],\n        \"semantic_type\": \"\",\n        \"description\": \"\"\n      }\n    },\n    {\n      \"column\": \"Precipitation (%)\",\n      \"properties\": {\n        \"dtype\": \"number\",\n        \"std\": 31.946540769981375,\n        \"min\": 0.0,\n        \"max\": 109.0,\n        \"num_unique_values\": 110,\n        \"samples\": [\n          7.0,\n          11.0,\n          26.0\n        ],\n        \"semantic_type\": \"\",\n        \"description\": \"\"\n      }\n    },\n    {\n      \"column\": \"Cloud Cover\",\n      \"properties\": {\n        \"dtype\": \"category\",\n        \"num_unique_values\": 4,\n        \"samples\": [\n          \"partly cloudy\",\n          \"cloudy\",\n          \"overcast\"\n        ],\n        \"semantic_type\": \"\",\n        \"description\": \"\"\n      }\n    },\n    {\n      \"column\": \"Atmospheric Pressure\",\n      \"properties\": {\n        \"dtype\": \"number\",\n        \"std\": 37.199588697503295,\n        \"min\": 800.12,\n        \"max\": 1199.21,\n        \"num_unique_values\": 5456,\n        \"samples\": [\n          1125.65,\n          912.8,\n          983.95\n        ],\n        \"semantic_type\": \"\",\n        \"description\": \"\"\n      }\n    },\n    {\n      \"column\": \"UV Index\",\n      \"properties\": {\n        \"dtype\": \"number\",\n        \"std\": 3,\n        \"min\": 0,\n        \"max\": 14,\n        \"num_unique_values\": 15,\n        \"samples\": [\n          14,\n          11,\n          2\n        ],\n        \"semantic_type\": \"\",\n        \"description\": \"\"\n      }\n    },\n    {\n      \"column\": \"Season\",\n      \"properties\": {\n        \"dtype\": \"category\",\n        \"num_unique_values\": 4,\n        \"samples\": [\n          \"Summer\",\n          \"Winter\",\n          \"Autumn\"\n        ],\n        \"semantic_type\": \"\",\n        \"description\": \"\"\n      }\n    },\n    {\n      \"column\": \"Visibility (km)\",\n      \"properties\": {\n        \"dtype\": \"number\",\n        \"std\": 3.3714989103539494,\n        \"min\": 0.0,\n        \"max\": 20.0,\n        \"num_unique_values\": 41,\n        \"samples\": [\n          11.5,\n          0.5,\n          9.5\n        ],\n        \"semantic_type\": \"\",\n        \"description\": \"\"\n      }\n    },\n    {\n      \"column\": \"Location\",\n      \"properties\": {\n        \"dtype\": \"category\",\n        \"num_unique_values\": 3,\n        \"samples\": [\n          \"inland\",\n          \"mountain\",\n          \"coastal\"\n        ],\n        \"semantic_type\": \"\",\n        \"description\": \"\"\n      }\n    },\n    {\n      \"column\": \"Weather Type\",\n      \"properties\": {\n        \"dtype\": \"category\",\n        \"num_unique_values\": 4,\n        \"samples\": [\n          \"Sunny\",\n          \"Snowy\",\n          \"Rainy\"\n        ],\n        \"semantic_type\": \"\",\n        \"description\": \"\"\n      }\n    }\n  ]\n}"
            }
          },
          "metadata": {},
          "execution_count": 4
        }
      ]
    },
    {
      "cell_type": "markdown",
      "source": [
        "## Scaling and Labeling\n",
        "Machine can't understand string so all the object datatypes need to be LABELED with integers.<br><br>\n",
        "Why SCALING?<br>\n",
        "You might have noticed one column contains data with large values (of order 1000) whereas some column contain small value data (of order 10). As a result, large value columns get more power/importance than others. To remove this disparity we scaled them to same order/values."
      ],
      "metadata": {
        "id": "7vKEzz9j19WQ"
      }
    },
    {
      "cell_type": "markdown",
      "source": [
        "**CODE**\n",
        "\n",
        "We need to find the columns with object datatypes.\n",
        "\n",
        "HINT: Use ```data.select_dtypes().columns.tolist()```<br>Reference: [w3schools](https://www.w3schools.com/python/pandas/ref_df_select_dtypes.asp#:~:text=The%20select_dtypes()%20method%20returns,the%20specified%20dtype(s).&text=Note%3A%20You%20must%20specify%20at,you%20will%20get%20an%20error.)"
      ],
      "metadata": {
        "id": "TBg-lPJgzM4Y"
      }
    },
    {
      "cell_type": "code",
      "source": [
        "# START CODE HERE\n",
        "object_columns = data.select_dtypes(include='object').columns.tolist()\n",
        "non_object_columns = data.select_dtypes(exclude='object').columns.tolist()\n",
        "# END CODE HERE\n",
        "print(f\"Object Columns: {object_columns}\\nNon Object Columns: {non_object_columns}\")"
      ],
      "metadata": {
        "id": "cIIKd53NpRKU",
        "outputId": "f7c02c1e-06d6-4c53-b27c-fe5b62ea98e8",
        "colab": {
          "base_uri": "https://localhost:8080/"
        }
      },
      "execution_count": 5,
      "outputs": [
        {
          "output_type": "stream",
          "name": "stdout",
          "text": [
            "Object Columns: ['Cloud Cover', 'Season', 'Location', 'Weather Type']\n",
            "Non Object Columns: ['Temperature', 'Humidity', 'Wind Speed', 'Precipitation (%)', 'Atmospheric Pressure', 'UV Index', 'Visibility (km)']\n"
          ]
        }
      ]
    },
    {
      "cell_type": "markdown",
      "source": [
        "**TEST** (DON'T EDIT THIS CELL)"
      ],
      "metadata": {
        "id": "KYlrJpdaAyKH"
      }
    },
    {
      "cell_type": "code",
      "source": [
        "# DON'T EDIT THIS CELL\n",
        "if (object_columns == ['Cloud Cover', 'Season', 'Location', 'Weather Type'] and non_object_columns == ['Temperature', 'Humidity', 'Wind Speed', 'Precipitation (%)', 'Atmospheric Pressure', 'UV Index', 'Visibility (km)']):\n",
        "  print(f\"\\033[32mTest Passed\\033[0m\")\n",
        "else:\n",
        "  print(f\"\\033[31mTest Failed\\033[0m\")"
      ],
      "metadata": {
        "id": "z4-pWLR5_fVf",
        "outputId": "4e5bc71b-e5e8-412b-c637-cfcbb7dc120a",
        "colab": {
          "base_uri": "https://localhost:8080/"
        }
      },
      "execution_count": 6,
      "outputs": [
        {
          "output_type": "stream",
          "name": "stdout",
          "text": [
            "\u001b[32mTest Passed\u001b[0m\n"
          ]
        }
      ]
    },
    {
      "cell_type": "markdown",
      "source": [
        "**CODE**\n",
        "\n",
        "We need to convert the object-type columns data into integral labels and scale the non-object-type columns data.\n",
        "\n",
        "HINT: Use ```ColumnTransformer()```<br>Reference: [scikit-learn](https://scikit-learn.org/stable/modules/generated/sklearn.compose.ColumnTransformer.html), [ChatGPT](https://chatgpt.com/c/7f3c1b02-5da0-4c34-bdb2-d999dccb9c2f)"
      ],
      "metadata": {
        "id": "reVHprk6z_nD"
      }
    },
    {
      "cell_type": "code",
      "source": [
        "from sklearn.preprocessing import OrdinalEncoder, StandardScaler\n",
        "from sklearn.compose import ColumnTransformer\n",
        "\n",
        "# START CODE HERE\n",
        "column_transformer = ColumnTransformer(\n",
        "    transformers=[\n",
        "        ('obj', OrdinalEncoder(), object_columns),\n",
        "        ('num', StandardScaler(), non_object_columns)\n",
        "    ],\n",
        "    remainder='passthrough'  # If we want to keep columns not specified in transformers\n",
        ")\n",
        "\n",
        "# Fit and transform the data\n",
        "data_scaled_labeled = column_transformer.fit_transform(data)\n",
        "# END CODE HERE\n",
        "\n",
        "\n",
        "all_columns = object_columns + non_object_columns\n",
        "\n",
        "# Create the new DataFrame\n",
        "data_scaled_labeled = pd.DataFrame(data_scaled_labeled, columns=all_columns)"
      ],
      "metadata": {
        "id": "kVT5qfqarRhF"
      },
      "execution_count": 7,
      "outputs": []
    },
    {
      "cell_type": "markdown",
      "source": [
        "**TEST** (DON'T EDIT THIS CELL)"
      ],
      "metadata": {
        "id": "2AvKGjfJk3cY"
      }
    },
    {
      "cell_type": "code",
      "source": [
        "# DON'T EDIT THIS CELL\n",
        "\n",
        "data_scaled_labeled_check = pd.read_csv(\"/content/data_scaled_labeled_check.csv\")\n",
        "import numpy as np\n",
        "data_scaled_labeled_values = np.sort(data_scaled_labeled.values,axis=0)\n",
        "data_scaled_labeled_check_values = np.sort(data_scaled_labeled_check.values,axis=0)\n",
        "if np.allclose(data_scaled_labeled_values, data_scaled_labeled_check_values, equal_nan=True):\n",
        "  print(f\"\\033[32mTest Passed\\033[0m\")\n",
        "else:\n",
        "  print(f\"\\033[31mTest Failed\\033[0m\")"
      ],
      "metadata": {
        "id": "7mT4H6o5D-mN",
        "outputId": "e3450cc7-f350-48d6-bbb9-91a40d376a34",
        "colab": {
          "base_uri": "https://localhost:8080/"
        }
      },
      "execution_count": 8,
      "outputs": [
        {
          "output_type": "stream",
          "name": "stdout",
          "text": [
            "\u001b[32mTest Passed\u001b[0m\n"
          ]
        }
      ]
    },
    {
      "cell_type": "markdown",
      "source": [
        "## Data Splitting"
      ],
      "metadata": {
        "id": "wpIxEziM2EYr"
      }
    },
    {
      "cell_type": "markdown",
      "source": [
        "**CODE**\n",
        "\n",
        "We need to drop the Weather Type column from data_scaled_labeled to get the X and pick Weather Type column to get Y\n",
        "\n",
        "Use 90-10 split of data, i.e. 90% for training, 10% for testing"
      ],
      "metadata": {
        "id": "GKCxivFq1rjB"
      }
    },
    {
      "cell_type": "code",
      "source": [
        "X = data_scaled_labeled.drop(columns=['Weather Type'])\n",
        "y = data_scaled_labeled['Weather Type']\n",
        "\n",
        "from sklearn.model_selection import train_test_split\n",
        "\n",
        "X_train, X_test, y_train, y_test = train_test_split(X,y, train_size = 0.9, random_state = 10)"
      ],
      "metadata": {
        "id": "e-gDICS-mZYG"
      },
      "execution_count": 9,
      "outputs": []
    },
    {
      "cell_type": "markdown",
      "source": [
        "**TEST** (DON'T EDIT THIS CELL)"
      ],
      "metadata": {
        "id": "WjR9MqGMpJ82"
      }
    },
    {
      "cell_type": "code",
      "source": [
        "# DON'T EDIT THIS CELL\n",
        "\n",
        "if (len(X_train)==11880 and len(X_test)==1320):\n",
        "  print(f\"\\033[32mTest Passed\\033[0m\")\n",
        "else:\n",
        "  print(f\"\\033[31mTest Failed\\033[0m\")\n",
        "\n",
        "if (len(y_train)==11880 and len(y_test)==1320):\n",
        "  print(f\"\\033[32mTest Passed\\033[0m\")\n",
        "else:\n",
        "  print(f\"\\033[31mTest Failed\\033[0m\")"
      ],
      "metadata": {
        "id": "q5ZtYcaxKzFK",
        "outputId": "1718a3a3-af07-4bbc-93d2-af1c3fa890d6",
        "colab": {
          "base_uri": "https://localhost:8080/"
        }
      },
      "execution_count": 10,
      "outputs": [
        {
          "output_type": "stream",
          "name": "stdout",
          "text": [
            "\u001b[32mTest Passed\u001b[0m\n",
            "\u001b[32mTest Passed\u001b[0m\n"
          ]
        }
      ]
    },
    {
      "cell_type": "code",
      "source": [
        "X_train.head()"
      ],
      "metadata": {
        "id": "uwYLbRwPzNBd",
        "outputId": "6f0469df-11f2-4535-a2a6-1f937889b756",
        "colab": {
          "base_uri": "https://localhost:8080/",
          "height": 241
        }
      },
      "execution_count": 11,
      "outputs": [
        {
          "output_type": "execute_result",
          "data": {
            "text/plain": [
              "       Cloud Cover  Season  Location  Temperature  Humidity  Wind Speed  \\\n",
              "7017           3.0     2.0       1.0    -0.179894  0.410487   -0.048086   \n",
              "12278          3.0     3.0       1.0     0.222737  0.311445    0.458541   \n",
              "2859           2.0     3.0       2.0    -1.330267  0.113362   -1.350840   \n",
              "5495           2.0     3.0       2.0    -1.617860  1.499948   -0.554712   \n",
              "8469           2.0     3.0       1.0    -1.502823  1.202822   -0.120461   \n",
              "\n",
              "       Precipitation (%)  Atmospheric Pressure  UV Index  Visibility (km)  \n",
              "7017           -1.147097              0.060275 -0.260799         1.049153  \n",
              "12278          -0.176689              0.332600 -0.520104         0.900845  \n",
              "2859            1.419788             -0.233826 -1.038715        -0.878846  \n",
              "5495            0.073739             -0.353187 -0.779410        -0.285616  \n",
              "8469            0.198953             -0.274150 -0.779410        -0.433923  "
            ],
            "text/html": [
              "\n",
              "  <div id=\"df-4cce0330-981c-4004-82d3-7819ccafa021\" class=\"colab-df-container\">\n",
              "    <div>\n",
              "<style scoped>\n",
              "    .dataframe tbody tr th:only-of-type {\n",
              "        vertical-align: middle;\n",
              "    }\n",
              "\n",
              "    .dataframe tbody tr th {\n",
              "        vertical-align: top;\n",
              "    }\n",
              "\n",
              "    .dataframe thead th {\n",
              "        text-align: right;\n",
              "    }\n",
              "</style>\n",
              "<table border=\"1\" class=\"dataframe\">\n",
              "  <thead>\n",
              "    <tr style=\"text-align: right;\">\n",
              "      <th></th>\n",
              "      <th>Cloud Cover</th>\n",
              "      <th>Season</th>\n",
              "      <th>Location</th>\n",
              "      <th>Temperature</th>\n",
              "      <th>Humidity</th>\n",
              "      <th>Wind Speed</th>\n",
              "      <th>Precipitation (%)</th>\n",
              "      <th>Atmospheric Pressure</th>\n",
              "      <th>UV Index</th>\n",
              "      <th>Visibility (km)</th>\n",
              "    </tr>\n",
              "  </thead>\n",
              "  <tbody>\n",
              "    <tr>\n",
              "      <th>7017</th>\n",
              "      <td>3.0</td>\n",
              "      <td>2.0</td>\n",
              "      <td>1.0</td>\n",
              "      <td>-0.179894</td>\n",
              "      <td>0.410487</td>\n",
              "      <td>-0.048086</td>\n",
              "      <td>-1.147097</td>\n",
              "      <td>0.060275</td>\n",
              "      <td>-0.260799</td>\n",
              "      <td>1.049153</td>\n",
              "    </tr>\n",
              "    <tr>\n",
              "      <th>12278</th>\n",
              "      <td>3.0</td>\n",
              "      <td>3.0</td>\n",
              "      <td>1.0</td>\n",
              "      <td>0.222737</td>\n",
              "      <td>0.311445</td>\n",
              "      <td>0.458541</td>\n",
              "      <td>-0.176689</td>\n",
              "      <td>0.332600</td>\n",
              "      <td>-0.520104</td>\n",
              "      <td>0.900845</td>\n",
              "    </tr>\n",
              "    <tr>\n",
              "      <th>2859</th>\n",
              "      <td>2.0</td>\n",
              "      <td>3.0</td>\n",
              "      <td>2.0</td>\n",
              "      <td>-1.330267</td>\n",
              "      <td>0.113362</td>\n",
              "      <td>-1.350840</td>\n",
              "      <td>1.419788</td>\n",
              "      <td>-0.233826</td>\n",
              "      <td>-1.038715</td>\n",
              "      <td>-0.878846</td>\n",
              "    </tr>\n",
              "    <tr>\n",
              "      <th>5495</th>\n",
              "      <td>2.0</td>\n",
              "      <td>3.0</td>\n",
              "      <td>2.0</td>\n",
              "      <td>-1.617860</td>\n",
              "      <td>1.499948</td>\n",
              "      <td>-0.554712</td>\n",
              "      <td>0.073739</td>\n",
              "      <td>-0.353187</td>\n",
              "      <td>-0.779410</td>\n",
              "      <td>-0.285616</td>\n",
              "    </tr>\n",
              "    <tr>\n",
              "      <th>8469</th>\n",
              "      <td>2.0</td>\n",
              "      <td>3.0</td>\n",
              "      <td>1.0</td>\n",
              "      <td>-1.502823</td>\n",
              "      <td>1.202822</td>\n",
              "      <td>-0.120461</td>\n",
              "      <td>0.198953</td>\n",
              "      <td>-0.274150</td>\n",
              "      <td>-0.779410</td>\n",
              "      <td>-0.433923</td>\n",
              "    </tr>\n",
              "  </tbody>\n",
              "</table>\n",
              "</div>\n",
              "    <div class=\"colab-df-buttons\">\n",
              "\n",
              "  <div class=\"colab-df-container\">\n",
              "    <button class=\"colab-df-convert\" onclick=\"convertToInteractive('df-4cce0330-981c-4004-82d3-7819ccafa021')\"\n",
              "            title=\"Convert this dataframe to an interactive table.\"\n",
              "            style=\"display:none;\">\n",
              "\n",
              "  <svg xmlns=\"http://www.w3.org/2000/svg\" height=\"24px\" viewBox=\"0 -960 960 960\">\n",
              "    <path d=\"M120-120v-720h720v720H120Zm60-500h600v-160H180v160Zm220 220h160v-160H400v160Zm0 220h160v-160H400v160ZM180-400h160v-160H180v160Zm440 0h160v-160H620v160ZM180-180h160v-160H180v160Zm440 0h160v-160H620v160Z\"/>\n",
              "  </svg>\n",
              "    </button>\n",
              "\n",
              "  <style>\n",
              "    .colab-df-container {\n",
              "      display:flex;\n",
              "      gap: 12px;\n",
              "    }\n",
              "\n",
              "    .colab-df-convert {\n",
              "      background-color: #E8F0FE;\n",
              "      border: none;\n",
              "      border-radius: 50%;\n",
              "      cursor: pointer;\n",
              "      display: none;\n",
              "      fill: #1967D2;\n",
              "      height: 32px;\n",
              "      padding: 0 0 0 0;\n",
              "      width: 32px;\n",
              "    }\n",
              "\n",
              "    .colab-df-convert:hover {\n",
              "      background-color: #E2EBFA;\n",
              "      box-shadow: 0px 1px 2px rgba(60, 64, 67, 0.3), 0px 1px 3px 1px rgba(60, 64, 67, 0.15);\n",
              "      fill: #174EA6;\n",
              "    }\n",
              "\n",
              "    .colab-df-buttons div {\n",
              "      margin-bottom: 4px;\n",
              "    }\n",
              "\n",
              "    [theme=dark] .colab-df-convert {\n",
              "      background-color: #3B4455;\n",
              "      fill: #D2E3FC;\n",
              "    }\n",
              "\n",
              "    [theme=dark] .colab-df-convert:hover {\n",
              "      background-color: #434B5C;\n",
              "      box-shadow: 0px 1px 3px 1px rgba(0, 0, 0, 0.15);\n",
              "      filter: drop-shadow(0px 1px 2px rgba(0, 0, 0, 0.3));\n",
              "      fill: #FFFFFF;\n",
              "    }\n",
              "  </style>\n",
              "\n",
              "    <script>\n",
              "      const buttonEl =\n",
              "        document.querySelector('#df-4cce0330-981c-4004-82d3-7819ccafa021 button.colab-df-convert');\n",
              "      buttonEl.style.display =\n",
              "        google.colab.kernel.accessAllowed ? 'block' : 'none';\n",
              "\n",
              "      async function convertToInteractive(key) {\n",
              "        const element = document.querySelector('#df-4cce0330-981c-4004-82d3-7819ccafa021');\n",
              "        const dataTable =\n",
              "          await google.colab.kernel.invokeFunction('convertToInteractive',\n",
              "                                                    [key], {});\n",
              "        if (!dataTable) return;\n",
              "\n",
              "        const docLinkHtml = 'Like what you see? Visit the ' +\n",
              "          '<a target=\"_blank\" href=https://colab.research.google.com/notebooks/data_table.ipynb>data table notebook</a>'\n",
              "          + ' to learn more about interactive tables.';\n",
              "        element.innerHTML = '';\n",
              "        dataTable['output_type'] = 'display_data';\n",
              "        await google.colab.output.renderOutput(dataTable, element);\n",
              "        const docLink = document.createElement('div');\n",
              "        docLink.innerHTML = docLinkHtml;\n",
              "        element.appendChild(docLink);\n",
              "      }\n",
              "    </script>\n",
              "  </div>\n",
              "\n",
              "\n",
              "<div id=\"df-832c5725-ab6b-48c7-a21f-0b94f39259ef\">\n",
              "  <button class=\"colab-df-quickchart\" onclick=\"quickchart('df-832c5725-ab6b-48c7-a21f-0b94f39259ef')\"\n",
              "            title=\"Suggest charts\"\n",
              "            style=\"display:none;\">\n",
              "\n",
              "<svg xmlns=\"http://www.w3.org/2000/svg\" height=\"24px\"viewBox=\"0 0 24 24\"\n",
              "     width=\"24px\">\n",
              "    <g>\n",
              "        <path d=\"M19 3H5c-1.1 0-2 .9-2 2v14c0 1.1.9 2 2 2h14c1.1 0 2-.9 2-2V5c0-1.1-.9-2-2-2zM9 17H7v-7h2v7zm4 0h-2V7h2v10zm4 0h-2v-4h2v4z\"/>\n",
              "    </g>\n",
              "</svg>\n",
              "  </button>\n",
              "\n",
              "<style>\n",
              "  .colab-df-quickchart {\n",
              "      --bg-color: #E8F0FE;\n",
              "      --fill-color: #1967D2;\n",
              "      --hover-bg-color: #E2EBFA;\n",
              "      --hover-fill-color: #174EA6;\n",
              "      --disabled-fill-color: #AAA;\n",
              "      --disabled-bg-color: #DDD;\n",
              "  }\n",
              "\n",
              "  [theme=dark] .colab-df-quickchart {\n",
              "      --bg-color: #3B4455;\n",
              "      --fill-color: #D2E3FC;\n",
              "      --hover-bg-color: #434B5C;\n",
              "      --hover-fill-color: #FFFFFF;\n",
              "      --disabled-bg-color: #3B4455;\n",
              "      --disabled-fill-color: #666;\n",
              "  }\n",
              "\n",
              "  .colab-df-quickchart {\n",
              "    background-color: var(--bg-color);\n",
              "    border: none;\n",
              "    border-radius: 50%;\n",
              "    cursor: pointer;\n",
              "    display: none;\n",
              "    fill: var(--fill-color);\n",
              "    height: 32px;\n",
              "    padding: 0;\n",
              "    width: 32px;\n",
              "  }\n",
              "\n",
              "  .colab-df-quickchart:hover {\n",
              "    background-color: var(--hover-bg-color);\n",
              "    box-shadow: 0 1px 2px rgba(60, 64, 67, 0.3), 0 1px 3px 1px rgba(60, 64, 67, 0.15);\n",
              "    fill: var(--button-hover-fill-color);\n",
              "  }\n",
              "\n",
              "  .colab-df-quickchart-complete:disabled,\n",
              "  .colab-df-quickchart-complete:disabled:hover {\n",
              "    background-color: var(--disabled-bg-color);\n",
              "    fill: var(--disabled-fill-color);\n",
              "    box-shadow: none;\n",
              "  }\n",
              "\n",
              "  .colab-df-spinner {\n",
              "    border: 2px solid var(--fill-color);\n",
              "    border-color: transparent;\n",
              "    border-bottom-color: var(--fill-color);\n",
              "    animation:\n",
              "      spin 1s steps(1) infinite;\n",
              "  }\n",
              "\n",
              "  @keyframes spin {\n",
              "    0% {\n",
              "      border-color: transparent;\n",
              "      border-bottom-color: var(--fill-color);\n",
              "      border-left-color: var(--fill-color);\n",
              "    }\n",
              "    20% {\n",
              "      border-color: transparent;\n",
              "      border-left-color: var(--fill-color);\n",
              "      border-top-color: var(--fill-color);\n",
              "    }\n",
              "    30% {\n",
              "      border-color: transparent;\n",
              "      border-left-color: var(--fill-color);\n",
              "      border-top-color: var(--fill-color);\n",
              "      border-right-color: var(--fill-color);\n",
              "    }\n",
              "    40% {\n",
              "      border-color: transparent;\n",
              "      border-right-color: var(--fill-color);\n",
              "      border-top-color: var(--fill-color);\n",
              "    }\n",
              "    60% {\n",
              "      border-color: transparent;\n",
              "      border-right-color: var(--fill-color);\n",
              "    }\n",
              "    80% {\n",
              "      border-color: transparent;\n",
              "      border-right-color: var(--fill-color);\n",
              "      border-bottom-color: var(--fill-color);\n",
              "    }\n",
              "    90% {\n",
              "      border-color: transparent;\n",
              "      border-bottom-color: var(--fill-color);\n",
              "    }\n",
              "  }\n",
              "</style>\n",
              "\n",
              "  <script>\n",
              "    async function quickchart(key) {\n",
              "      const quickchartButtonEl =\n",
              "        document.querySelector('#' + key + ' button');\n",
              "      quickchartButtonEl.disabled = true;  // To prevent multiple clicks.\n",
              "      quickchartButtonEl.classList.add('colab-df-spinner');\n",
              "      try {\n",
              "        const charts = await google.colab.kernel.invokeFunction(\n",
              "            'suggestCharts', [key], {});\n",
              "      } catch (error) {\n",
              "        console.error('Error during call to suggestCharts:', error);\n",
              "      }\n",
              "      quickchartButtonEl.classList.remove('colab-df-spinner');\n",
              "      quickchartButtonEl.classList.add('colab-df-quickchart-complete');\n",
              "    }\n",
              "    (() => {\n",
              "      let quickchartButtonEl =\n",
              "        document.querySelector('#df-832c5725-ab6b-48c7-a21f-0b94f39259ef button');\n",
              "      quickchartButtonEl.style.display =\n",
              "        google.colab.kernel.accessAllowed ? 'block' : 'none';\n",
              "    })();\n",
              "  </script>\n",
              "</div>\n",
              "\n",
              "    </div>\n",
              "  </div>\n"
            ],
            "application/vnd.google.colaboratory.intrinsic+json": {
              "type": "dataframe",
              "variable_name": "X_train",
              "summary": "{\n  \"name\": \"X_train\",\n  \"rows\": 11880,\n  \"fields\": [\n    {\n      \"column\": \"Cloud Cover\",\n      \"properties\": {\n        \"dtype\": \"number\",\n        \"std\": 1.0077364598523186,\n        \"min\": 0.0,\n        \"max\": 3.0,\n        \"num_unique_values\": 4,\n        \"samples\": [\n          2.0,\n          1.0,\n          3.0\n        ],\n        \"semantic_type\": \"\",\n        \"description\": \"\"\n      }\n    },\n    {\n      \"column\": \"Season\",\n      \"properties\": {\n        \"dtype\": \"number\",\n        \"std\": 1.163148091411418,\n        \"min\": 0.0,\n        \"max\": 3.0,\n        \"num_unique_values\": 4,\n        \"samples\": [\n          3.0,\n          0.0,\n          2.0\n        ],\n        \"semantic_type\": \"\",\n        \"description\": \"\"\n      }\n    },\n    {\n      \"column\": \"Location\",\n      \"properties\": {\n        \"dtype\": \"number\",\n        \"std\": 0.7908963478236752,\n        \"min\": 0.0,\n        \"max\": 2.0,\n        \"num_unique_values\": 3,\n        \"samples\": [\n          1.0,\n          2.0,\n          0.0\n        ],\n        \"semantic_type\": \"\",\n        \"description\": \"\"\n      }\n    },\n    {\n      \"column\": \"Temperature\",\n      \"properties\": {\n        \"dtype\": \"number\",\n        \"std\": 1.0023952475653182,\n        \"min\": -2.538158198201921,\n        \"max\": 5.1693397261694916,\n        \"num_unique_values\": 124,\n        \"samples\": [\n          0.4528111455840002,\n          -0.9276362438556558,\n          -1.2727480912155698\n        ],\n        \"semantic_type\": \"\",\n        \"description\": \"\"\n      }\n    },\n    {\n      \"column\": \"Humidity\",\n      \"properties\": {\n        \"dtype\": \"number\",\n        \"std\": 0.9979320206771005,\n        \"min\": -2.412205610571191,\n        \"max\": 1.9951568722612254,\n        \"num_unique_values\": 90,\n        \"samples\": [\n          0.9552174100198687,\n          -1.669391708970222,\n          -1.7684335625170178\n        ],\n        \"semantic_type\": \"\",\n        \"description\": \"\"\n      }\n    },\n    {\n      \"column\": \"Wind Speed\",\n      \"properties\": {\n        \"dtype\": \"number\",\n        \"std\": 0.9970002525079721,\n        \"min\": -1.4232147188724793,\n        \"max\": 5.597181035815361,\n        \"num_unique_values\": 97,\n        \"samples\": [\n          2.557422049249492,\n          0.9651673420007033,\n          5.380055393917799\n        ],\n        \"semantic_type\": \"\",\n        \"description\": \"\"\n      }\n    },\n    {\n      \"column\": \"Precipitation (%)\",\n      \"properties\": {\n        \"dtype\": \"number\",\n        \"std\": 0.9982421157743537,\n        \"min\": -1.6792561806842878,\n        \"max\": 1.7328230740721378,\n        \"num_unique_values\": 110,\n        \"samples\": [\n          1.7328230740721378,\n          1.169360444846306,\n          0.198952583401818\n        ],\n        \"semantic_type\": \"\",\n        \"description\": \"\"\n      }\n    },\n    {\n      \"column\": \"Atmospheric Pressure\",\n      \"properties\": {\n        \"dtype\": \"number\",\n        \"std\": 1.0012375815320929,\n        \"min\": -5.530052772719152,\n        \"max\": 5.198698051647312,\n        \"num_unique_values\": 5238,\n        \"samples\": [\n          1.0640871198084745,\n          -0.020643381489949972,\n          0.06511350324715094\n        ],\n        \"semantic_type\": \"\",\n        \"description\": \"\"\n      }\n    },\n    {\n      \"column\": \"UV Index\",\n      \"properties\": {\n        \"dtype\": \"number\",\n        \"std\": 1.0015456922676007,\n        \"min\": -1.0387151745577339,\n        \"max\": 2.5915625366584933,\n        \"num_unique_values\": 15,\n        \"samples\": [\n          1.0357292318515388,\n          2.0729514350561753,\n          -0.2607985221542567\n        ],\n        \"semantic_type\": \"\",\n        \"description\": \"\"\n      }\n    },\n    {\n      \"column\": \"Visibility (km)\",\n      \"properties\": {\n        \"dtype\": \"number\",\n        \"std\": 1.0001870497716718,\n        \"min\": -1.6203842125853756,\n        \"max\": 4.311920127594475,\n        \"num_unique_values\": 41,\n        \"samples\": [\n          1.6423831745135424,\n          -1.0271537785673903,\n          1.1974603490000537\n        ],\n        \"semantic_type\": \"\",\n        \"description\": \"\"\n      }\n    }\n  ]\n}"
            }
          },
          "metadata": {},
          "execution_count": 11
        }
      ]
    },
    {
      "cell_type": "markdown",
      "source": [
        "# Training and Testing\n",
        "Use any suitable classifier to fit the training data and check the accuracy on test data\n",
        "\n",
        "Don't forget to import that library"
      ],
      "metadata": {
        "id": "upeKo2UVs8WH"
      }
    },
    {
      "cell_type": "markdown",
      "source": [
        "**CODE**\n",
        "\n",
        "ACCURACY should be more than 90%,\n",
        "\n",
        "1. Fit the model to X_train and y_train\n",
        "2. Find the model score on X_test and y_test"
      ],
      "metadata": {
        "id": "amPA5lMY3adM"
      }
    },
    {
      "cell_type": "code",
      "source": [
        "from sklearn.ensemble import RandomForestClassifier\n",
        "\n",
        "# Define the model\n",
        "model = RandomForestClassifier(random_state=10)\n",
        "\n",
        "model.fit(X_train, y_train)\n",
        "\n",
        "# Evaluate the model on test data\n",
        "score = model.score(X_test, y_test)\n",
        "\n",
        "print(f\"Model Score on Test Data: {score}\")"
      ],
      "metadata": {
        "id": "yei6MWgW0Si9",
        "outputId": "152850e3-46f8-46c7-9114-d56156eb0a2d",
        "colab": {
          "base_uri": "https://localhost:8080/"
        }
      },
      "execution_count": 19,
      "outputs": [
        {
          "output_type": "stream",
          "name": "stdout",
          "text": [
            "Model Score on Test Data: 0.9174242424242425\n"
          ]
        }
      ]
    },
    {
      "cell_type": "markdown",
      "source": [
        "**TEST** (DON'T EDIT THIS CELL)"
      ],
      "metadata": {
        "id": "gv0LHa5FuDSU"
      }
    },
    {
      "cell_type": "code",
      "source": [
        "# DON'T EDIT THIS CELL\n",
        "\n",
        "if (score>0.90):\n",
        "  print(f\"\\033[32mTest Passed\\033[0m\")\n",
        "else:\n",
        "  print(f\"\\033[31mTest Failed\\033[0m\")"
      ],
      "metadata": {
        "id": "WYopYL5MuAam",
        "outputId": "c520b2a3-3d22-468a-a5fe-700702f2c464",
        "colab": {
          "base_uri": "https://localhost:8080/"
        }
      },
      "execution_count": 20,
      "outputs": [
        {
          "output_type": "stream",
          "name": "stdout",
          "text": [
            "\u001b[32mTest Passed\u001b[0m\n"
          ]
        }
      ]
    },
    {
      "cell_type": "markdown",
      "source": [
        "# Predicting Output (Here, Weather Type) (Optional)"
      ],
      "metadata": {
        "id": "pOnUEVEsuQlA"
      }
    },
    {
      "cell_type": "code",
      "source": [
        "input_data = X_test.head()\n",
        "predictions = model.predict(input_data)\n",
        "\n",
        "\n",
        "print(\"Input Data:\")\n",
        "print(input_data)\n",
        "\n"
      ],
      "metadata": {
        "id": "oAvmODuFwDNl",
        "outputId": "cd09bc0e-747f-4024-a9bf-7d2137d63bd0",
        "colab": {
          "base_uri": "https://localhost:8080/"
        }
      },
      "execution_count": 22,
      "outputs": [
        {
          "output_type": "stream",
          "name": "stdout",
          "text": [
            "Input Data:\n",
            "       Cloud Cover  Season  Location  Temperature  Humidity  Wind Speed  \\\n",
            "11923          3.0     3.0       2.0    -0.467487  0.113362   -0.771838   \n",
            "2331           3.0     3.0       1.0    -1.387785  0.707613    0.169040   \n",
            "217            3.0     3.0       2.0     0.452811 -0.877057    0.024290   \n",
            "1760           3.0     2.0       0.0    -0.122375 -0.877057   -0.265211   \n",
            "3963           3.0     0.0       0.0    -0.525006 -0.877057   -0.771838   \n",
            "\n",
            "       Precipitation (%)  Atmospheric Pressure  UV Index  Visibility (km)  \n",
            "11923          -0.990580              0.248187 -0.779410         0.455922  \n",
            "2331            0.480684             -0.669331 -1.038715        -0.582231  \n",
            "217            -0.990580             -0.041343 -0.779410         0.307615  \n",
            "1760           -1.021883              0.008659 -0.520104         0.455922  \n",
            "3963           -0.708848              0.073447 -0.001493         1.049153  \n"
          ]
        }
      ]
    },
    {
      "cell_type": "code",
      "source": [
        "y = model.predict(input_data)\n",
        "print(\"\\nPredictions:\")\n",
        "print(predictions)"
      ],
      "metadata": {
        "id": "jZAkEyqUONIc",
        "outputId": "44136d90-3317-4b15-c87f-f3d949928e34",
        "colab": {
          "base_uri": "https://localhost:8080/"
        }
      },
      "execution_count": 23,
      "outputs": [
        {
          "output_type": "stream",
          "name": "stdout",
          "text": [
            "\n",
            "Predictions:\n",
            "[0. 2. 0. 0. 0.]\n"
          ]
        }
      ]
    },
    {
      "cell_type": "markdown",
      "source": [
        "Here, the outputs are in numbers. We can perform inverse column transfer for getiing the string values.\n"
      ],
      "metadata": {
        "id": "zuNM1UNPyY7p"
      }
    }
  ]
}