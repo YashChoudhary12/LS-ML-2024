{
  "nbformat": 4,
  "nbformat_minor": 0,
  "metadata": {
    "colab": {
      "provenance": [],
      "gpuType": "T4"
    },
    "kernelspec": {
      "name": "python3",
      "display_name": "Python 3"
    },
    "language_info": {
      "name": "python"
    },
    "accelerator": "GPU"
  },
  "cells": [
    {
      "cell_type": "code",
      "execution_count": 32,
      "metadata": {
        "id": "IY18baE8wPYG"
      },
      "outputs": [],
      "source": [
        "\n",
        "import numpy as np\n",
        "import matplotlib.pyplot as plt\n",
        "import tensorflow as tf\n",
        "from tensorflow.keras.layers import Input, Conv2D, Lambda, Dense, Flatten, MaxPooling2D\n",
        "from tensorflow.keras.models import Model\n",
        "from tensorflow.keras import backend as K\n",
        "from sklearn.model_selection import train_test_split\n",
        "from sklearn.utils import shuffle\n",
        "from sklearn.datasets import fetch_lfw_people  # Importing fetch_lfw_people from scikit-learn\n",
        "import cv2\n"
      ]
    },
    {
      "cell_type": "code",
      "source": [
        "# Downloading the LFW dataset using scikit-learn\n",
        "lfw_people = fetch_lfw_people(min_faces_per_person=70, resize=0.4)\n",
        "\n",
        "train_images = lfw_people.images\n",
        "train_labels = lfw_people.target\n",
        "\n",
        "train_images = train_images / 255.0\n",
        "\n",
        "# Function to preprocess images (remains unchanged)\n",
        "def preprocess_image(image, target_shape=(105, 105)):\n",
        "    image = cv2.resize(image, target_shape)\n",
        "    if len(image.shape) == 2:\n",
        "        image = np.expand_dims(image, axis=-1)\n",
        "    return image\n",
        "\n",
        "# Preprocess train images\n",
        "train_images = np.array([preprocess_image(img) for img in train_images])\n",
        "\n",
        "# Splitting the dataset into train and test\n",
        "train_images, test_images, train_labels, test_labels = train_test_split(\n",
        "    train_images, train_labels, test_size=0.2, random_state=42\n",
        ")"
      ],
      "metadata": {
        "id": "TRLz8hxpwY6T"
      },
      "execution_count": 33,
      "outputs": []
    },
    {
      "cell_type": "code",
      "source": [
        "def siamese_model(input_shape):\n",
        "    input = Input(input_shape)\n",
        "\n",
        "\n",
        "    x = Conv2D(64, (10, 10), activation='relu')(input)\n",
        "    x = MaxPooling2D(pool_size=(2, 2))(x)\n",
        "    x = Conv2D(128, (7, 7), activation='relu')(x)\n",
        "    x = MaxPooling2D(pool_size=(2, 2))(x)\n",
        "    x = Conv2D(128, (4, 4), activation='relu')(x)\n",
        "    x = MaxPooling2D(pool_size=(2, 2))(x)\n",
        "    x = Conv2D(256, (4, 4), activation='relu')(x)\n",
        "    x = Flatten()(x)\n",
        "    x = Dense(4096, activation='sigmoid')(x)\n",
        "\n",
        "    model = Model(inputs=input, outputs=x)\n",
        "    return model\n",
        "\n",
        "input_shape = (105, 105, 1)\n",
        "siamese_model = siamese_model(input_shape)\n",
        "\n",
        "input_a = Input(shape=input_shape)\n",
        "input_b = Input(shape=input_shape)\n",
        "\n",
        "# Generation of the encodings (feature vectors) for the two images\n",
        "encoded_a = siamese_model(input_a)\n",
        "encoded_b = siamese_model(input_b)\n",
        "\n",
        "# Calculate the Euclidean distance between the encodings\n",
        "L1_distance = Lambda(lambda tensors:K.abs(tensors[0] - tensors[1]))([encoded_a, encoded_b])\n",
        "output = Dense(1, activation='sigmoid')(L1_distance)\n",
        "\n",
        "# Model to take two inputs and output whether they are the same or different\n",
        "siamese_network = Model(inputs=[input_a, input_b], outputs=output)\n",
        "siamese_network.compile(loss=\"binary_crossentropy\", optimizer='adam', metrics=['accuracy'])\n",
        "\n",
        "siamese_network.summary()\n"
      ],
      "metadata": {
        "colab": {
          "base_uri": "https://localhost:8080/"
        },
        "id": "rb_wZZoYwck9",
        "outputId": "c0c20863-5efa-4654-c0bb-8fd53a1acd2a"
      },
      "execution_count": 34,
      "outputs": [
        {
          "output_type": "stream",
          "name": "stdout",
          "text": [
            "Model: \"model_3\"\n",
            "__________________________________________________________________________________________________\n",
            " Layer (type)                Output Shape                 Param #   Connected to                  \n",
            "==================================================================================================\n",
            " input_5 (InputLayer)        [(None, 105, 105, 1)]        0         []                            \n",
            "                                                                                                  \n",
            " input_6 (InputLayer)        [(None, 105, 105, 1)]        0         []                            \n",
            "                                                                                                  \n",
            " model_2 (Functional)        (None, 4096)                 3894764   ['input_5[0][0]',             \n",
            "                                                          8          'input_6[0][0]']             \n",
            "                                                                                                  \n",
            " lambda_1 (Lambda)           (None, 4096)                 0         ['model_2[0][0]',             \n",
            "                                                                     'model_2[1][0]']             \n",
            "                                                                                                  \n",
            " dense_3 (Dense)             (None, 1)                    4097      ['lambda_1[0][0]']            \n",
            "                                                                                                  \n",
            "==================================================================================================\n",
            "Total params: 38951745 (148.59 MB)\n",
            "Trainable params: 38951745 (148.59 MB)\n",
            "Non-trainable params: 0 (0.00 Byte)\n",
            "__________________________________________________________________________________________________\n"
          ]
        }
      ]
    },
    {
      "cell_type": "code",
      "source": [
        "import random\n",
        "\n",
        "def create_pairs(images, labels):\n",
        "    pairs = []\n",
        "    pair_labels = []\n",
        "\n",
        "    n = min([len(np.where(labels == i)[0]) for i in range(len(np.unique(labels)))])\n",
        "\n",
        "    for d in range(len(np.unique(labels))):\n",
        "        idx = np.where(labels == d)[0]\n",
        "        for i in range(n - 1):\n",
        "            pairs.append([images[idx[i]], images[idx[i + 1]]])\n",
        "            inc = random.randrange(1, n)\n",
        "            dn = (d + inc) % len(np.unique(labels))\n",
        "            idx2 = np.where(labels == dn)[0]\n",
        "            pairs.append([images[idx[i]], images[idx2[i]]])\n",
        "            pair_labels += [1, 0]\n",
        "\n",
        "    return np.array(pairs), np.array(pair_labels)\n",
        "\n",
        "train_pairs, train_y = create_pairs(train_images, train_labels)\n",
        "test_pairs, test_y = create_pairs(test_images, test_labels)\n",
        "\n",
        "siamese_network.fit([train_pairs[:, 0], train_pairs[:, 1]], train_y,\n",
        "                    validation_data=([test_pairs[:, 0], test_pairs[:, 1]], test_y),\n",
        "                    batch_size=32,\n",
        "                    epochs=25)"
      ],
      "metadata": {
        "colab": {
          "base_uri": "https://localhost:8080/"
        },
        "id": "efOl3MazxT1p",
        "outputId": "a6f20c37-9f59-42f0-c6c8-7d796b37b166"
      },
      "execution_count": 35,
      "outputs": [
        {
          "output_type": "stream",
          "name": "stdout",
          "text": [
            "Epoch 1/25\n",
            "25/25 [==============================] - 5s 82ms/step - loss: 0.6932 - accuracy: 0.5013 - val_loss: 0.6931 - val_accuracy: 0.5000\n",
            "Epoch 2/25\n",
            "25/25 [==============================] - 2s 70ms/step - loss: 0.6932 - accuracy: 0.4749 - val_loss: 0.6932 - val_accuracy: 0.5143\n",
            "Epoch 3/25\n",
            "25/25 [==============================] - 2s 70ms/step - loss: 0.6932 - accuracy: 0.5138 - val_loss: 0.6932 - val_accuracy: 0.5000\n",
            "Epoch 4/25\n",
            "25/25 [==============================] - 2s 70ms/step - loss: 0.6931 - accuracy: 0.5000 - val_loss: 0.6942 - val_accuracy: 0.5000\n",
            "Epoch 5/25\n",
            "25/25 [==============================] - 2s 69ms/step - loss: 0.6936 - accuracy: 0.5175 - val_loss: 0.6949 - val_accuracy: 0.4857\n",
            "Epoch 6/25\n",
            "25/25 [==============================] - 2s 72ms/step - loss: 0.6926 - accuracy: 0.5639 - val_loss: 0.6932 - val_accuracy: 0.5000\n",
            "Epoch 7/25\n",
            "25/25 [==============================] - 2s 78ms/step - loss: 0.6932 - accuracy: 0.5000 - val_loss: 0.6931 - val_accuracy: 0.5000\n",
            "Epoch 8/25\n",
            "25/25 [==============================] - 2s 69ms/step - loss: 0.6932 - accuracy: 0.5000 - val_loss: 0.6931 - val_accuracy: 0.5000\n",
            "Epoch 9/25\n",
            "25/25 [==============================] - 2s 70ms/step - loss: 0.6932 - accuracy: 0.5000 - val_loss: 0.6931 - val_accuracy: 0.5000\n",
            "Epoch 10/25\n",
            "25/25 [==============================] - 2s 70ms/step - loss: 0.6932 - accuracy: 0.5000 - val_loss: 0.6931 - val_accuracy: 0.5000\n",
            "Epoch 11/25\n",
            "25/25 [==============================] - 2s 70ms/step - loss: 0.6932 - accuracy: 0.4699 - val_loss: 0.6931 - val_accuracy: 0.5000\n",
            "Epoch 12/25\n",
            "25/25 [==============================] - 2s 67ms/step - loss: 0.6932 - accuracy: 0.5000 - val_loss: 0.6931 - val_accuracy: 0.5000\n",
            "Epoch 13/25\n",
            "25/25 [==============================] - 2s 70ms/step - loss: 0.6932 - accuracy: 0.5000 - val_loss: 0.6931 - val_accuracy: 0.5000\n",
            "Epoch 14/25\n",
            "25/25 [==============================] - 2s 74ms/step - loss: 0.6932 - accuracy: 0.4862 - val_loss: 0.6931 - val_accuracy: 0.5000\n",
            "Epoch 15/25\n",
            "25/25 [==============================] - 2s 67ms/step - loss: 0.6932 - accuracy: 0.5000 - val_loss: 0.6931 - val_accuracy: 0.5000\n",
            "Epoch 16/25\n",
            "25/25 [==============================] - 2s 70ms/step - loss: 0.6932 - accuracy: 0.5000 - val_loss: 0.6931 - val_accuracy: 0.5000\n",
            "Epoch 17/25\n",
            "25/25 [==============================] - 2s 67ms/step - loss: 0.6932 - accuracy: 0.5000 - val_loss: 0.6931 - val_accuracy: 0.5000\n",
            "Epoch 18/25\n",
            "25/25 [==============================] - 2s 67ms/step - loss: 0.6932 - accuracy: 0.5000 - val_loss: 0.6931 - val_accuracy: 0.5000\n",
            "Epoch 19/25\n",
            "25/25 [==============================] - 2s 72ms/step - loss: 0.6932 - accuracy: 0.5013 - val_loss: 0.6931 - val_accuracy: 0.5000\n",
            "Epoch 20/25\n",
            "25/25 [==============================] - 2s 71ms/step - loss: 0.6932 - accuracy: 0.4724 - val_loss: 0.6931 - val_accuracy: 0.5000\n",
            "Epoch 21/25\n",
            "25/25 [==============================] - 2s 72ms/step - loss: 0.6932 - accuracy: 0.5050 - val_loss: 0.6931 - val_accuracy: 0.5000\n",
            "Epoch 22/25\n",
            "25/25 [==============================] - 2s 68ms/step - loss: 0.6932 - accuracy: 0.4787 - val_loss: 0.6931 - val_accuracy: 0.5000\n",
            "Epoch 23/25\n",
            "25/25 [==============================] - 2s 73ms/step - loss: 0.6932 - accuracy: 0.4699 - val_loss: 0.6931 - val_accuracy: 0.5000\n",
            "Epoch 24/25\n",
            "25/25 [==============================] - 2s 69ms/step - loss: 0.6932 - accuracy: 0.4975 - val_loss: 0.6931 - val_accuracy: 0.5000\n",
            "Epoch 25/25\n",
            "25/25 [==============================] - 2s 69ms/step - loss: 0.6932 - accuracy: 0.4799 - val_loss: 0.6931 - val_accuracy: 0.5000\n"
          ]
        },
        {
          "output_type": "execute_result",
          "data": {
            "text/plain": [
              "<keras.src.callbacks.History at 0x79f9c04c97e0>"
            ]
          },
          "metadata": {},
          "execution_count": 35
        }
      ]
    },
    {
      "cell_type": "code",
      "source": [
        "from IPython.display import display, Javascript\n",
        "from google.colab.output import eval_js\n",
        "from base64 import b64decode\n",
        "\n",
        "def take_photo(filename='photo.jpg', quality=0.8):\n",
        "  js = Javascript('''\n",
        "    async function takePhoto(quality) {\n",
        "      const div = document.createElement('div');\n",
        "      const capture = document.createElement('button');\n",
        "      capture.textContent = 'Capture';\n",
        "      div.appendChild(capture);\n",
        "\n",
        "      const video = document.createElement('video');\n",
        "      video.style.display = 'block';\n",
        "      const stream = await navigator.mediaDevices.getUserMedia({video: true});\n",
        "\n",
        "      document.body.appendChild(div);\n",
        "      div.appendChild(video);\n",
        "      video.srcObject = stream;\n",
        "      await video.play();\n",
        "\n",
        "      // Resizing the output to fit the video element\n",
        "      google.colab.output.setIframeHeight(document.documentElement.scrollHeight, true);\n",
        "\n",
        "      // Waiting for Capture to be clicked\n",
        "      await new Promise((resolve) => capture.onclick = resolve);\n",
        "\n",
        "      const canvas = document.createElement('canvas');\n",
        "      canvas.width = video.videoWidth;\n",
        "      canvas.height = video.videoHeight;\n",
        "      canvas.getContext('2d').drawImage(video, 0, 0);\n",
        "      stream.getVideoTracks()[0].stop();\n",
        "      div.remove();\n",
        "      return canvas.toDataURL('image/jpeg', quality);\n",
        "    }\n",
        "    ''')\n",
        "  display(js)\n",
        "  data = eval_js('takePhoto({})'.format(quality))\n",
        "  binary = b64decode(data.split(',')[1])\n",
        "  with open(filename, 'wb') as f:\n",
        "    f.write(binary)\n",
        "  return filename\n",
        "\n",
        "# Capturing the image\n",
        "captured_image_filename = take_photo()\n",
        "\n",
        "captured_image = cv2.imread(captured_image_filename) # Read the image data from the file\n",
        "\n",
        "\n",
        "# Convert to grayscale and preprocess the image\n",
        "def preprocess_image(image, target_shape=(105, 105)):\n",
        "    image = cv2.resize(image, target_shape)\n",
        "    if len(image.shape) == 3:\n",
        "        image = cv2.cvtColor(image, cv2.COLOR_BGR2GRAY)\n",
        "    image = np.expand_dims(image, axis=-1)\n",
        "    return image\n",
        "\n",
        "captured_image = preprocess_image(captured_image)\n"
      ],
      "metadata": {
        "colab": {
          "base_uri": "https://localhost:8080/",
          "height": 17
        },
        "id": "rBIpcCqaxX2U",
        "outputId": "3411ff3b-c81c-476a-a267-19075610f176"
      },
      "execution_count": 36,
      "outputs": [
        {
          "output_type": "display_data",
          "data": {
            "text/plain": [
              "<IPython.core.display.Javascript object>"
            ],
            "application/javascript": [
              "\n",
              "    async function takePhoto(quality) {\n",
              "      const div = document.createElement('div');\n",
              "      const capture = document.createElement('button');\n",
              "      capture.textContent = 'Capture';\n",
              "      div.appendChild(capture);\n",
              "\n",
              "      const video = document.createElement('video');\n",
              "      video.style.display = 'block';\n",
              "      const stream = await navigator.mediaDevices.getUserMedia({video: true});\n",
              "\n",
              "      document.body.appendChild(div);\n",
              "      div.appendChild(video);\n",
              "      video.srcObject = stream;\n",
              "      await video.play();\n",
              "\n",
              "      // Resizing the output to fit the video element\n",
              "      google.colab.output.setIframeHeight(document.documentElement.scrollHeight, true);\n",
              "\n",
              "      // Waiting for Capture to be clicked\n",
              "      await new Promise((resolve) => capture.onclick = resolve);\n",
              "\n",
              "      const canvas = document.createElement('canvas');\n",
              "      canvas.width = video.videoWidth;\n",
              "      canvas.height = video.videoHeight;\n",
              "      canvas.getContext('2d').drawImage(video, 0, 0);\n",
              "      stream.getVideoTracks()[0].stop();\n",
              "      div.remove();\n",
              "      return canvas.toDataURL('image/jpeg', quality);\n",
              "    }\n",
              "    "
            ]
          },
          "metadata": {}
        }
      ]
    },
    {
      "cell_type": "code",
      "source": [
        "import random\n",
        "\n",
        "# Selection of a random image from LFW dataset\n",
        "random_index = random.randint(0, len(test_images) - 1)\n",
        "lfw_image = test_images[random_index]\n",
        "\n",
        "plt.imshow(lfw_image.squeeze(), cmap='gray')\n",
        "plt.title(\"Random LFW Image\")\n",
        "plt.axis('off')\n",
        "plt.show()\n",
        "\n",
        "plt.imshow(captured_image.squeeze(), cmap='gray')\n",
        "plt.title(\"Captured Image\")\n",
        "plt.axis('off')\n",
        "plt.show()\n",
        "\n",
        "prediction = siamese_network.predict([np.expand_dims(captured_image, axis=0), np.expand_dims(lfw_image, axis=0)])\n",
        "if prediction < 0.5:\n",
        "    print(\"The images are different.\")\n",
        "else:\n",
        "    print(\"The images are the same.\")"
      ],
      "metadata": {
        "id": "g9Tq5HAs-cVl",
        "colab": {
          "base_uri": "https://localhost:8080/",
          "height": 875
        },
        "outputId": "e28c6636-6ae3-4b68-8c80-1edca11d5788"
      },
      "execution_count": 37,
      "outputs": [
        {
          "output_type": "display_data",
          "data": {
            "text/plain": [
              "<Figure size 640x480 with 1 Axes>"
            ],
            "image/png": "[encoded data removed]"
          },
          "metadata": {}
        },
        {
          "output_type": "display_data",
          "data": {
            "text/plain": [
              "<Figure size 640x480 with 1 Axes>"
            ],
            "image/png": "[encoded data removed]"
          },
          "metadata": {}
        },
        {
          "output_type": "stream",
          "name": "stdout",
          "text": [
            "1/1 [==============================] - 0s 114ms/step\n",
            "The images are different.\n"
          ]
        }
      ]
    },
    {
      "cell_type": "code",
      "source": [],
      "metadata": {
        "id": "oq9ATMfX6BOa"
      },
      "execution_count": null,
      "outputs": []
    }
  ]
}